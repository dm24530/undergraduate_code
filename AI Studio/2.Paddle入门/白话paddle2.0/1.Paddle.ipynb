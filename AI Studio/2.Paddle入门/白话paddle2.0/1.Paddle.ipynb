{
 "cells": [
  {
   "cell_type": "markdown",
   "metadata": {
    "collapsed": false
   },
   "source": [
    "## paddlepaddle一场新的飞跃！\n",
    "自paddlepaddle 1.8后革新版本的2.0-rc已经发布了，新的版本新的飞跃，让我们一起脚踏飞桨的祥云，遨游代码的海洋，打开深度学习的大门，共同探索美好新未来\n"
   ]
  },
  {
   "cell_type": "code",
   "execution_count": 1,
   "metadata": {
    "collapsed": false
   },
   "outputs": [
    {
     "name": "stdout",
     "output_type": "stream",
     "text": [
      "paddle 2.0.0-rc0\n"
     ]
    }
   ],
   "source": [
    "# 查看当前安装的版本\r\n",
    "import paddle\r\n",
    "print(\"paddle \" + paddle.__version__)"
   ]
  },
  {
   "cell_type": "markdown",
   "metadata": {
    "collapsed": false
   },
   "source": [
    "## 让我们一起开启新世界的大门吧~~~\n",
    "CSDN系列文章合集：[https://blog.csdn.net/weixin_45623093/category_10616602.html](https://blog.csdn.net/weixin_45623093/category_10616602.html)"
   ]
  },
  {
   "cell_type": "markdown",
   "metadata": {
    "collapsed": false
   },
   "source": [
    "### 等待，这里需要等待一下掉队的童鞋！\n",
    "基于没有安装paddlepaddle的童鞋们我就给大家来排雷"
   ]
  },
  {
   "cell_type": "markdown",
   "metadata": {
    "collapsed": false
   },
   "source": [
    "#### 参考文档\n",
    "百度paddlepaddle官方安装教程：[https://www.paddlepaddle.org.cn/install/quick/zh/2.0rc-windows-conda](https://www.paddlepaddle.org.cn/install/quick/zh/2.0rc-windows-conda)\n",
    "\n",
    "小鸭学院paddlepaddle安装错误处理教程：[https://blog.csdn.net/weixin_41450123/article/details/109701779](https://blog.csdn.net/weixin_41450123/article/details/109701779)"
   ]
  },
  {
   "cell_type": "markdown",
   "metadata": {
    "collapsed": false
   },
   "source": [
    "### 使用CPU版本的小伙伴朝这里看了\n",
    "* 点开我们的官方文档，选择对应的版本。查看有关的代码进行安装，即可。\n",
    "\n",
    "![](https://ai-studio-static-online.cdn.bcebos.com/6f809422de83410184d654452d24f7dc6f447660664043a59523d1ba0b07591f)\n",
    "\n",
    "\n"
   ]
  },
  {
   "cell_type": "code",
   "execution_count": null,
   "metadata": {
    "collapsed": false
   },
   "outputs": [],
   "source": [
    "!python -m pip install paddlepaddle==2.0.0rc0 -i https://mirror.baidu.com/pypi/simple  # 在cmd中运行时把!去掉即可"
   ]
  },
  {
   "cell_type": "markdown",
   "metadata": {
    "collapsed": false
   },
   "source": [
    "让我们看看实际的运行效果吧！\n",
    "\n",
    "![](https://ai-studio-static-online.cdn.bcebos.com/f6d88d421957412c87820936639dab91150b61fa2a6149a09cf52ba7bddfc13e)\n",
    "\n",
    "![](https://ai-studio-static-online.cdn.bcebos.com/5de06a3473224cdd9c1866997d2eccff6d7521e90a324de5b65ecd0e65a48067)\n"
   ]
  },
  {
   "cell_type": "markdown",
   "metadata": {
    "collapsed": false
   },
   "source": [
    "### 查看是否安装成功！\n",
    "![](https://ai-studio-static-online.cdn.bcebos.com/cfacfc3df083493594b876adcfb3cc61ae7bc72b1bb1408fbf6965ec0856346c)\n"
   ]
  },
  {
   "cell_type": "code",
   "execution_count": 1,
   "metadata": {
    "collapsed": false
   },
   "outputs": [
    {
     "name": "stdout",
     "output_type": "stream",
     "text": [
      "Running Verify Fluid Program ... \n",
      "Your Paddle Fluid works well on SINGLE GPU or CPU.\n",
      "Your Paddle Fluid works well on MUTIPLE GPU or CPU.\n",
      "Your Paddle Fluid is installed successfully! Let's start deep Learning with Paddle Fluid now\n"
     ]
    }
   ],
   "source": [
    "import paddle.fluid as fluid\r\n",
    "fluid.install_check.run_check()\r\n",
    "# 只要出现\"Your Paddle Fluid is installed succesfully!\"就是安装成功！"
   ]
  },
  {
   "cell_type": "markdown",
   "metadata": {
    "collapsed": false
   },
   "source": [
    "![](https://ai-studio-static-online.cdn.bcebos.com/3a0a48d58d4c464d806c581beaad9f0672d10070741b4a23bd49d86318b85c2e)\n"
   ]
  },
  {
   "cell_type": "markdown",
   "metadata": {
    "collapsed": false
   },
   "source": [
    "### CPU版本安装注意事项\n",
    "* 电脑有多个python环境，当前环境不是预期环境\n",
    "\n",
    "解决：查看当前python环境，检查是否符合预期\n",
    "* python低于python2.7.15，不支持paddlepaddle2.0.0-rc0（不建议python2安装paddlepaddle2.0-rc0）\n",
    "\n",
    "解决：使用3.5.+及以上版本进行处理\n",
    "* pip的版本太低导致paddle安装报错\n",
    "\n",
    "解决：使用'python3 -m pip install --upgrade pip'等代码进行升级\n",
    "* 安装网络异常，未成功安装\n",
    "\n",
    "解决：重新进行安装"
   ]
  },
  {
   "cell_type": "markdown",
   "metadata": {
    "collapsed": false
   },
   "source": [
    "## GPU的小伙伴我们走啦走啦！\n",
    "GPU所需要的环境和内容比较多，较为复杂但是不怕我们一步一步完全看啦！\n",
    "\n",
    "老规矩让我们看看需要什么啦！\n",
    "![](https://ai-studio-static-online.cdn.bcebos.com/fd33ff88d52845d6a23fce01d7b8375b353b7b413d4e4ce2ad7b0499b7fc1b48)\n",
    "\n",
    "注意：此处需要根据实际情况对conda进行确认。"
   ]
  },
  {
   "cell_type": "markdown",
   "metadata": {
    "collapsed": false
   },
   "source": [
    "### 环境的准备\n",
    "\n",
    "\n",
    "| 项目 | 要求 | \n",
    "| -------- | -------- |\n",
    "| Windows    | 7/8/10 专业版/企业版 (64bit)     |\n",
    "| CUDA   |9.0/9.1/9.2/10.0/10.1/10.2，且仅支持单卡|\n",
    "| conda  | 4.8.3+ (64 bit)|\n",
    "\n",
    "* conda的安装\n",
    "\n",
    "地址：[Anaconda官网](https://www.anaconda.com/)\n",
    "\n",
    "![](https://ai-studio-static-online.cdn.bcebos.com/83c25af6ec294e63871d156b8cc629904cb746063cf44c459c6cf78035a69571)\n",
    "\n",
    "根据自己的需要和实际情况对anaconda进行下载或安装（建议安装最新版本）"
   ]
  },
  {
   "cell_type": "markdown",
   "metadata": {
    "collapsed": false
   },
   "source": [
    "### 虚拟环境的创建\n",
    "大家对虚拟环境一定不陌生，都是老朋友了，那那那新手怎么办？\n",
    "\n",
    "茫茫然？\n",
    "\n",
    "小白带你白话创环境！（下面创建的是Anaconda虚拟环境如果不是conda环境请自行搜索）\n",
    "\n",
    "* 1.pytho虚拟环境创建\n",
    "\n",
    "paddlepaddle2.0目前暂时支持python2.7.15以上版本和3.5.+、3.6.+、3.7.+、3.8.+\n",
    "\n",
    "（此处**不建议**使用2.7版本，paddlepaddle2.0将不再支持python2系列）\n",
    "\n",
    "```\n",
    "conda create -n <自定义名称> python=3.x (自己实际需要的版本)\n",
    "```\n",
    "**这里三岁自定义的名字是paddlepaddle2.0-re**\n",
    "\n",
    "![](https://ai-studio-static-online.cdn.bcebos.com/744f054241cf4879b5cd4c6a73eab5f5464806b1cdc64e859345d8457a1a7034)\n",
    "* 2.查看自己的创建的虚拟环境及版本（先找到位置，这里三岁找了好久没有比较好的办法，还是看你们自定义安装的位置这里就不展示了）\n",
    "\n",
    "`python --version`\n",
    "\n",
    "![](https://ai-studio-static-online.cdn.bcebos.com/b34652277b6c4a37b9ed565c15a57b070ce4c4876bab4a8a89785fc5bc2dcd2a)\n",
    "* 3.确认Python和pip是64bit，并且处理器架构是x86_64（或称作x64、Intel 64、AMD64）架构\n",
    "\n",
    "`python -c \"import platform;print(platform.architecture()[0]);print(platform.machine())\"`\n",
    "\n",
    "![](https://ai-studio-static-online.cdn.bcebos.com/4fb695807b7b4a50ad85a44f3814bf102320fd5a5d3d4432871aa6fa6e241e49)\n"
   ]
  },
  {
   "cell_type": "markdown",
   "metadata": {
    "collapsed": false
   },
   "source": [
    "### 开始安装paddlepaddle2.0-rc GPU版本\n",
    "* 1.进入指定环境\n",
    "\n",
    "`activate xxx`xxx == 自己的环境名字\n",
    "\n",
    "![](https://ai-studio-static-online.cdn.bcebos.com/f0e4074bf04c49b090755be95cddad6f8d70ba50d70244c5bd7a5977f21a716b)\n",
    "\n",
    "** 在前面的括号里面出现了自己的环境名称就可以！**\n",
    "\n",
    "* 2.开始安装\n",
    "![](https://ai-studio-static-online.cdn.bcebos.com/a9fcad432f9741bba6a273bb53601a8a3a5cabdeffda41769181ced30e068cae)\n",
    "\n",
    "这里就需要大家根据自己的实际情况进行进行处理了不同的coda使用不同的版本。\n"
   ]
  },
  {
   "cell_type": "markdown",
   "metadata": {
    "collapsed": false
   },
   "source": [
    "### 安装结束后确认\n",
    "这里的确认方式与CPU相同\n",
    "\n",
    "![](https://ai-studio-static-online.cdn.bcebos.com/3b169db410374ab490a91aa3c8659cebebfaa7c9799c4c959acda9086651aa9e)\n",
    "\n",
    "但是这里的问题可能比较多\n",
    "\n",
    "emmm，看看解决方案吧！"
   ]
  },
  {
   "cell_type": "markdown",
   "metadata": {
    "collapsed": false
   },
   "source": [
    "### GPU安装容易出现的问题\n",
    "* pip、python等版本不对\n",
    "\n",
    "解决：升级pip、使用合适的版本进行安装\n",
    "* conda 环境多导致版本选择错误\n",
    "\n",
    "解决：查找conda中的虚拟环境，在正确的虚拟环境中进行安装\n",
    "\n",
    "* CUDA不符合，显卡不匹配或不适用\n",
    "\n",
    "解决：查看显卡是否是英伟达的然后CUDA版本是否正确如果不正确请，更换硬件或升级有关软件\n",
    "\n",
    "* 其他花式报错：\n",
    "\n",
    "解决方法：参考链接：[https://blog.csdn.net/weixin_41450123/article/details/109701779](https://blog.csdn.net/weixin_41450123/article/details/109701779)"
   ]
  },
  {
   "cell_type": "markdown",
   "metadata": {
    "collapsed": false
   },
   "source": [
    "## linux CPU的小伙伴我们启程啦\n",
    "由于三岁只有阿里云，无法使用GPU版本，此处只做CPU的教程啦！\n",
    "\n",
    "还是老规矩官网找到我们安装代码！\n",
    "\n",
    "![](https://ai-studio-static-online.cdn.bcebos.com/344711f415ba4a08bc0c28f89ead3c1943da80ff19dd4661b66e69178d8b8570)\n"
   ]
  },
  {
   "cell_type": "code",
   "execution_count": null,
   "metadata": {
    "collapsed": false
   },
   "outputs": [],
   "source": [
    "python -m pip install paddlepaddle==2.0.0rc0 -i https://mirror.baidu.com/pypi/simple"
   ]
  },
  {
   "cell_type": "markdown",
   "metadata": {
    "collapsed": false
   },
   "source": [
    "* 此处注意LINUX里面都是有python2作为底层内容的需要确保使用的合适的版本所以需要根据实际情况进行处理\n",
    "\n",
    "![](https://ai-studio-static-online.cdn.bcebos.com/e10f793500454e99adc2141e4cd1b81834d5dccdb16f49ad8a0ac88d0155fe1d)\n",
    "\n",
    "此处三岁把python改成了python3进行安装\n",
    "\n",
    "\n"
   ]
  },
  {
   "cell_type": "markdown",
   "metadata": {
    "collapsed": false
   },
   "source": [
    "### 爱情来得就是这么猝不及防\n",
    "![](https://ai-studio-static-online.cdn.bcebos.com/df2b2576df9d410f8ca6b21ee3bee626c91c73a934fd48f7a953ade1e65155c2)\n",
    "\n",
    "安装之间发现黄色的错误警报信息，顿时让一个linux慌了手脚。\n",
    "\n",
    "一顿操作猛如虎，发现是path没有填写完整，进行改正发现已经问题不大\n",
    "\n",
    "![](https://ai-studio-static-online.cdn.bcebos.com/82b80cc6315a4efaba07f78c704d94c43eb8ca0dd808443faf5d1bbfb2d7e208)\n",
    "\n"
   ]
  },
  {
   "cell_type": "markdown",
   "metadata": {
    "collapsed": false
   },
   "source": [
    "### 确认安装成功\n",
    "![](https://ai-studio-static-online.cdn.bcebos.com/8c809ec816804f809f19050f5de6c3422fda983b3cbd4ad2b97b6d5ab449d3eb)\n"
   ]
  },
  {
   "cell_type": "markdown",
   "metadata": {
    "collapsed": false
   },
   "source": [
    "### linux涉及的问题\n",
    "* python安装的问题，linux涉及python3和Python2之类的共同问题\n",
    "\n",
    "解决方案：合理安装python，升级pip对，path进行必要的更改\n",
    "* 网络的问题：有些linux在虚拟机上或者在服务器端，远程操作，可能涉及网络不好导致无法安装\n",
    "\n",
    "解决方案：处理好网络接口等各方面问题然后进行再次安装即可。"
   ]
  }
 ],
 "metadata": {
  "kernelspec": {
   "display_name": "PaddlePaddle 2.0.0b0 (Python 3.5)",
   "language": "python",
   "name": "py35-paddle1.2.0"
  },
  "language_info": {
   "codemirror_mode": {
    "name": "ipython",
    "version": 3
   },
   "file_extension": ".py",
   "mimetype": "text/x-python",
   "name": "python",
   "nbconvert_exporter": "python",
   "pygments_lexer": "ipython3",
   "version": "3.7.4"
  }
 },
 "nbformat": 4,
 "nbformat_minor": 1
}
