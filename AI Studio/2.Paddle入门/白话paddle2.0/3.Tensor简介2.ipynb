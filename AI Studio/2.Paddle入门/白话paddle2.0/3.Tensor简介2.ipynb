{
 "cells": [
  {
   "cell_type": "markdown",
   "metadata": {
    "collapsed": false
   },
   "source": [
    "# paddlepaddle2.0— 开启新梦想"
   ]
  },
  {
   "cell_type": "markdown",
   "metadata": {
    "collapsed": false
   },
   "source": [
    "### 三岁白Paddle2.0系列历史地址\n",
    "三岁白话Paddle2.0系列第一话：起航新征程：[https://aistudio.baidu.com/aistudio/projectdetail/1270135](https://aistudio.baidu.com/aistudio/projectdetail/1270135)\n",
    "\n",
    "三岁白话paddle2.0系列第二话：开启入门之旅—（Tensor的大家庭）:[https://aistudio.baidu.com/aistudio/projectdetail/1275635](https://aistudio.baidu.com/aistudio/projectdetail/1275635)\n",
    "\n",
    "CSDN系列文章合集：[https://blog.csdn.net/weixin_45623093/category_10616602.html](https://blog.csdn.net/weixin_45623093/category_10616602.html)"
   ]
  },
  {
   "cell_type": "markdown",
   "metadata": {
    "collapsed": false
   },
   "source": [
    "### 参考资料\n",
    "PaddlePaddle官方文档：\n",
    "\n",
    "[https://www.paddlepaddle.org.cn/documentation/docs/zh/2.0-rc/guides/01_paddle2.0_introduction/basic_concept/tensor_introduction_cn.html](https://www.paddlepaddle.org.cn/documentation/docs/zh/2.0-rc/guides/01_paddle2.0_introduction/basic_concept/tensor_introduction_cn.html)\n",
    "\n",
    "百度：[https://www.baidu.com/s?wd=Tensor](https://www.baidu.com/s?wd=Tensor)\n",
    "\n",
    "\n",
    "python官方文档：[https://docs.python.org/3/tutorial/introduction.html#strings](https://docs.python.org/3/tutorial/introduction.html#strings)"
   ]
  },
  {
   "cell_type": "code",
   "execution_count": 1,
   "metadata": {
    "collapsed": false
   },
   "outputs": [],
   "source": [
    "# 导入环境\r\n",
    "import paddle\r\n",
    "import numpy as np"
   ]
  },
  {
   "cell_type": "markdown",
   "metadata": {
    "collapsed": false
   },
   "source": [
    "## Tensor name\n",
    "上集我们说到了Tensor的place我们来说说我们Tensor独一无二的东西——名字！\n",
    "\n",
    "这个名字和我们的名字不一样，类似于我们的身份证号码，我们的名字可以重复，但是身份证号码不会，Tensor的name是其唯一的标识符，为python 字符串类型，默认地，在每个Tensor创建时，Paddle会自定义一个独一无二的name"
   ]
  },
  {
   "cell_type": "markdown",
   "metadata": {
    "collapsed": false
   },
   "source": [
    "### 获取Paddle Tensor的name\n",
    "查看一个Tensor的name可以通过Tensor.name属性"
   ]
  },
  {
   "cell_type": "code",
   "execution_count": 11,
   "metadata": {
    "collapsed": false
   },
   "outputs": [
    {
     "name": "stdout",
     "output_type": "stream",
     "text": [
      "Tensor name: generated_tensor_101\n"
     ]
    }
   ],
   "source": [
    "print(\"Tensor name:\", paddle.to_tensor(1).name)"
   ]
  },
  {
   "cell_type": "markdown",
   "metadata": {
    "collapsed": false
   },
   "source": [
    "# Tensor 的运算与操作\n",
    "说完了Tensor的属性和定义我们来看看怎么处理Tensor"
   ]
  },
  {
   "cell_type": "markdown",
   "metadata": {
    "collapsed": false
   },
   "source": [
    "### Tensor 的 切片与索引\n",
    "我们可以通过索引或切片方便地访问或修改 Tensor\n",
    "\n",
    "Paddle 使用标准的 Python 索引规则与 Numpy 索引规则，与 [Indexing a list or a string in Python](https://docs.python.org/3/tutorial/introduction.html#strings)【官方文档中对于索引的使用】类似。\n",
    "\n",
    "![python官网解析](https://img-blog.csdnimg.cn/2020113016511340.png?x-oss-process=image/watermark,type_ZmFuZ3poZW5naGVpdGk,shadow_10,text_aHR0cHM6Ly9ibG9nLmNzZG4ubmV0L3dlaXhpbl80NTYyMzA5Mw==,size_16,color_FFFFFF,t_70)\n",
    "\n",
    "![](https://ai-studio-static-online.cdn.bcebos.com/6d9fb8dc15c849d092844a10dd374354d2ff5c0f27a74e1fbf44978b31de3b8a)\n",
    "\n",
    "![](https://ai-studio-static-online.cdn.bcebos.com/f0e31dd4a28140ca8134ddb44ddef4bd7f547389731647c19ac2e18d0b1da7c6)\n"
   ]
  },
  {
   "cell_type": "code",
   "execution_count": null,
   "metadata": {
    "collapsed": false
   },
   "outputs": [
    {
     "name": "stdout",
     "output_type": "stream",
     "text": [
      "Origin Tensor: [0 1 2 3 4 5 6 7 8]\n"
     ]
    }
   ],
   "source": [
    "# paddle也一样的操作方式\r\n",
    "#建立一个一维Tensor并输出查看结果\r\n",
    "rank_1_tensor = paddle.to_tensor([0, 1, 2, 3, 4, 5, 6, 7, 8])\r\n",
    "print(\"Origin Tensor:\", rank_1_tensor.numpy()) #使用numpy()可以查看结果"
   ]
  },
  {
   "cell_type": "markdown",
   "metadata": {
    "collapsed": false
   },
   "source": [
    "![](https://ai-studio-static-online.cdn.bcebos.com/e0a2e90a4a7a4e1496b578e12605a447ce0e8508c8374b88971463318daf0f28)\n"
   ]
  },
  {
   "cell_type": "code",
   "execution_count": null,
   "metadata": {
    "collapsed": false
   },
   "outputs": [
    {
     "name": "stdout",
     "output_type": "stream",
     "text": [
      "First element: [0]\n",
      "Last element: [8]\n",
      "All element: [0 1 2 3 4 5 6 7 8]\n",
      "Before 3: [0 1 2]\n",
      "From 6 to the end: [6 7 8]\n",
      "From 3 to 6: [3 4 5]\n",
      "Interval of 3: [0 3 6]\n",
      "Reverse: [8 7 6 5 4 3 2 1 0]\n"
     ]
    }
   ],
   "source": [
    "print(\"First element:\", rank_1_tensor[0].numpy())  # 第一个值：0\r\n",
    "print(\"Last element:\", rank_1_tensor[-1].numpy())  # 最后一个值：8\r\n",
    "print(\"All element:\", rank_1_tensor[:].numpy())  # 全部值0-8\r\n",
    "print(\"Before 3:\", rank_1_tensor[:3].numpy())  # 前3个值0-2\r\n",
    "print(\"From 6 to the end:\", rank_1_tensor[6:].numpy())  # 6以后的值6-8\r\n",
    "print(\"From 3 to 6:\", rank_1_tensor[3:6].numpy())  # 第4到6位 3-5\r\n",
    "print(\"Interval of 3:\", rank_1_tensor[::3].numpy())  # 按照3为步长进行输出\r\n",
    "print(\"Reverse:\", rank_1_tensor[::-1].numpy())  # 倒叙输出"
   ]
  },
  {
   "cell_type": "markdown",
   "metadata": {
    "collapsed": false
   },
   "source": [
    "### 多维Tensor切片与索引\n",
    "不同维度之间采用，逗号进行分割\n",
    "\n",
    "顺序可以参考“剥洋葱”：先高维度再低维度\n",
    "\n",
    "注：如果没有进行索引则默认为全部"
   ]
  },
  {
   "cell_type": "code",
   "execution_count": null,
   "metadata": {
    "collapsed": false
   },
   "outputs": [
    {
     "name": "stdout",
     "output_type": "stream",
     "text": [
      "[[ 0  1  2  3]\n",
      " [ 4  5  6  7]\n",
      " [ 8  9 10 11]]\n"
     ]
    }
   ],
   "source": [
    "# 建立一个二维Tensor\r\n",
    "rank_2_tensor = paddle.to_tensor([[0, 1, 2, 3],\r\n",
    "                                  [4, 5, 6, 7],\r\n",
    "                                  [8, 9, 10, 11]])\r\n",
    "print(rank_2_tensor.numpy())"
   ]
  },
  {
   "cell_type": "code",
   "execution_count": null,
   "metadata": {
    "collapsed": false
   },
   "outputs": [
    {
     "name": "stdout",
     "output_type": "stream",
     "text": [
      "First row: [0 1 2 3]\n",
      "First row: [0 1 2 3]\n",
      "First column: [0 4 8]\n",
      "Last column: [ 3  7 11]\n",
      "All element: [[ 0  1  2  3]\n",
      " [ 4  5  6  7]\n",
      " [ 8  9 10 11]]\n",
      "First row and second column: [1]\n"
     ]
    }
   ],
   "source": [
    "# 获取第二维度中的第一序列值\r\n",
    "print(\"First row:\", rank_2_tensor[0].numpy())\r\n",
    "# 获取第二维度中的第一序列中所有的值\r\n",
    "print(\"First row:\", rank_2_tensor[0, :].numpy())\r\n",
    "# 获取第二维度所有序列（第一维度）中的第一个序列值\r\n",
    "print(\"First column:\", rank_2_tensor[:, 0].numpy())\r\n",
    "# 获取第二维度所有序列（第一维度）中的最后第一个序列值\r\n",
    "print(\"Last column:\", rank_2_tensor[:, -1].numpy())\r\n",
    "# 获取所有维度中的所有值\r\n",
    "print(\"All element:\", rank_2_tensor[:].numpy())\r\n",
    "# 获取第二维度中的第一个序列的第二个值\r\n",
    "print(\"First row and second column:\", rank_2_tensor[0, 1].numpy())"
   ]
  },
  {
   "cell_type": "markdown",
   "metadata": {
    "collapsed": false
   },
   "source": [
    "## Tensor 的修改\n",
    "这是一个需要谨慎的的操作，paddle Tensor修改以后不会保存原有数值，而是原地修改该 Tensor 的数值\n",
    "\n",
    "如果涉及一些梯度运算等有可能导致后续结果的巨大变化，所以谨慎操作\n",
    "\n",
    "**谨慎操作**"
   ]
  },
  {
   "cell_type": "code",
   "execution_count": null,
   "metadata": {
    "collapsed": false
   },
   "outputs": [
    {
     "name": "stdout",
     "output_type": "stream",
     "text": [
      "[[1. 1. 1.]\n",
      " [1. 1. 1.]] 140156419596848\n"
     ]
    }
   ],
   "source": [
    "# 创建一个[2,3]的数值为1的Tensor\r\n",
    "x = paddle.to_tensor(np.ones((2, 3)).astype(np.float32))\r\n",
    "print(x.numpy(), id(x))"
   ]
  },
  {
   "cell_type": "code",
   "execution_count": null,
   "metadata": {
    "collapsed": false
   },
   "outputs": [
    {
     "name": "stdout",
     "output_type": "stream",
     "text": [
      "[[0. 0. 0.]\n",
      " [1. 1. 1.]] 140156419596848\n"
     ]
    }
   ],
   "source": [
    "# 修改二维的数据\r\n",
    "x[0] = 0\r\n",
    "print(x.numpy(), id(x))"
   ]
  },
  {
   "cell_type": "markdown",
   "metadata": {
    "collapsed": false
   },
   "source": [
    "通过观察可以看到id没有发生改变"
   ]
  },
  {
   "cell_type": "code",
   "execution_count": null,
   "metadata": {
    "collapsed": false
   },
   "outputs": [
    {
     "name": "stdout",
     "output_type": "stream",
     "text": [
      "[[3. 3. 3.]\n",
      " [3. 3. 3.]] 140156419596848\n"
     ]
    }
   ],
   "source": [
    "x[...] = 3\r\n",
    "print(x.numpy(), id(x))"
   ]
  },
  {
   "cell_type": "code",
   "execution_count": null,
   "metadata": {
    "collapsed": false
   },
   "outputs": [
    {
     "name": "stdout",
     "output_type": "stream",
     "text": [
      "[[1. 2. 3.]\n",
      " [1. 2. 3.]] 140156419596848\n"
     ]
    }
   ],
   "source": [
    "x[0:1] = np.array([1,2,3]) \r\n",
    "print(x.numpy(), id(x))"
   ]
  },
  {
   "cell_type": "markdown",
   "metadata": {
    "collapsed": false
   },
   "source": [
    "把第二维度的[0:1]修改为 np.array([1,2,3]) ，修改以后id保持不变"
   ]
  },
  {
   "cell_type": "code",
   "execution_count": null,
   "metadata": {
    "collapsed": false
   },
   "outputs": [
    {
     "name": "stdout",
     "output_type": "stream",
     "text": [
      "[[1. 2. 3.]\n",
      " [1. 1. 1.]] 140156419596848\n"
     ]
    }
   ],
   "source": [
    "x[1] = paddle.ones([3]) \r\n",
    "print(x.numpy(), id(x))"
   ]
  },
  {
   "cell_type": "markdown",
   "metadata": {
    "collapsed": false
   },
   "source": [
    "### Tensor 的其他操作\n",
    "paddle Tensor 里面封装了许多函数可以供我们参考使用\n",
    "\n",
    "在这里对比较经典的进行举例\n"
   ]
  },
  {
   "cell_type": "code",
   "execution_count": 14,
   "metadata": {
    "collapsed": false
   },
   "outputs": [
    {
     "name": "stdout",
     "output_type": "stream",
     "text": [
      "Tensor(shape=[2, 2], dtype=float64, place=CPUPlace, stop_gradient=True,\n",
      "       [[6.60000000, 8.80000000],\n",
      "        [        11., 13.20000000]]) \n",
      "\n",
      "Tensor(shape=[2, 2], dtype=float64, place=CPUPlace, stop_gradient=True,\n",
      "       [[6.60000000, 8.80000000],\n",
      "        [        11., 13.20000000]])\n"
     ]
    }
   ],
   "source": [
    "x = paddle.to_tensor([[1.1, 2.2], [3.3, 4.4]], dtype=\"float64\")  # 新建x，y两个Tensor\r\n",
    "y = paddle.to_tensor([[5.5, 6.6], [7.7, 8.8]], dtype=\"float64\")\r\n",
    "\r\n",
    "print(paddle.add(x, y), \"\\n\")  # 使用Paddle API进行操作\r\n",
    "print(x.add(y))  # 使用Tensor 类成员函数进行操作"
   ]
  },
  {
   "cell_type": "markdown",
   "metadata": {
    "collapsed": false
   },
   "source": [
    "### 使用Tensor 类成员函数方式对常用函数进行展示"
   ]
  },
  {
   "cell_type": "code",
   "execution_count": null,
   "metadata": {
    "collapsed": false
   },
   "outputs": [],
   "source": [
    "x.abs()                       #逐元素取绝对值\r\n",
    "x.ceil()                      #逐元素向上取整\r\n",
    "x.floor()                     #逐元素向下取整\r\n",
    "x.round()                     #逐元素四舍五入\r\n",
    "x.exp()                       #逐元素计算自然常数为底的指数\r\n",
    "x.log()                       #逐元素计算x的自然对数\r\n",
    "x.reciprocal()                #逐元素求倒数\r\n",
    "x.square()                    #逐元素计算平方\r\n",
    "x.sqrt()                      #逐元素计算平方根\r\n",
    "x.sin()                       #逐元素计算正弦\r\n",
    "x.cos()                       #逐元素计算余弦\r\n",
    "x.add(y)                      #逐元素相加\r\n",
    "x.subtract(y)                 #逐元素相减\r\n",
    "x.multiply(y)                 #逐元素相乘\r\n",
    "x.divide(y)                   #逐元素相除\r\n",
    "x.mod(y)                      #逐元素相除并取余\r\n",
    "x.pow(y)                      #逐元素幂运算\r\n",
    "x.max()                       #指定维度上元素最大值，默认为全部维度\r\n",
    "x.min()                       #指定维度上元素最小值，默认为全部维度\r\n",
    "x.prod()                      #指定维度上元素累乘，默认为全部维度\r\n",
    "x.sum()                       #指定维度上元素的和，默认为全部维度"
   ]
  },
  {
   "cell_type": "code",
   "execution_count": 18,
   "metadata": {
    "collapsed": false
   },
   "outputs": [
    {
     "name": "stdout",
     "output_type": "stream",
     "text": [
      "sum: Tensor(shape=[1], dtype=float64, place=CPUPlace, stop_gradient=True,\n",
      "       [11.])\n",
      "multiply: Tensor(shape=[2, 2], dtype=float64, place=CPUPlace, stop_gradient=True,\n",
      "       [[ 6.05000000, 14.52000000],\n",
      "        [25.41000000, 38.72000000]])\n",
      "abs: Tensor(shape=[2, 2], dtype=float64, place=CPUPlace, stop_gradient=True,\n",
      "       [[1.10000000, 2.20000000],\n",
      "        [3.30000000, 4.40000000]])\n"
     ]
    }
   ],
   "source": [
    "# 举例\r\n",
    "print('sum:', x.sum())  # 得到该Tensor所有的值的和\r\n",
    "print('multiply:', x.multiply(y))  # 得到x,y 逐元素相乘的结果\r\n",
    "print('abs:', x.abs())  # 逐元素取绝对值"
   ]
  },
  {
   "cell_type": "markdown",
   "metadata": {
    "collapsed": false
   },
   "source": [
    "#### Paddle对python数学运算相关的魔法函数进行了重写，以下操作与上述结果相同。"
   ]
  },
  {
   "cell_type": "code",
   "execution_count": null,
   "metadata": {
    "collapsed": false
   },
   "outputs": [],
   "source": [
    "x + y  -> x.add(y)            #逐元素相加\r\n",
    "x - y  -> x.add(-y)           #逐元素相减\r\n",
    "x * y  -> x.multiply(y)       #逐元素相乘\r\n",
    "x / y  -> x.divide(y)         #逐元素相除\r\n",
    "x // y -> x.floor_divide(y)   #逐元素相除并取整\r\n",
    "x % y  -> x.remainder(y)      #逐元素相除并取余\r\n",
    "x ** y -> x.pow(y)            #逐元素幂运算"
   ]
  },
  {
   "cell_type": "code",
   "execution_count": 17,
   "metadata": {
    "collapsed": false
   },
   "outputs": [
    {
     "name": "stdout",
     "output_type": "stream",
     "text": [
      "add: Tensor(shape=[2, 2], dtype=float64, place=CPUPlace, stop_gradient=True,\n",
      "       [[6.60000000, 8.80000000],\n",
      "        [        11., 13.20000000]])\n",
      "floor_divide: Tensor(shape=[2, 2], dtype=float64, place=CPUPlace, stop_gradient=True,\n",
      "       [[1.10000000, 2.20000000],\n",
      "        [3.30000000, 4.40000000]])\n"
     ]
    }
   ],
   "source": [
    "# 举例\r\n",
    "print('add:', x + y)\r\n",
    "print('floor_divide:', x % y)"
   ]
  },
  {
   "cell_type": "markdown",
   "metadata": {
    "collapsed": false
   },
   "source": [
    "### 逻辑运算符"
   ]
  },
  {
   "cell_type": "code",
   "execution_count": 19,
   "metadata": {
    "collapsed": false
   },
   "outputs": [],
   "source": [
    "x.isfinite()                  #判断tensor中元素是否是有限的数字，即不包括inf与nan\r\n",
    "x.equal_all(y)                #判断两个tensor的全部元素是否相等，并返回shape为[1]的bool Tensor\r\n",
    "x.equal(y)                    #判断两个tensor的每个元素是否相等，并返回shape相同的bool Tensor\r\n",
    "x.not_equal(y)                #判断两个tensor的每个元素是否不相等\r\n",
    "x.less_than(y)                #判断tensor x的元素是否小于tensor y的对应元素\r\n",
    "x.less_equal(y)               #判断tensor x的元素是否小于或等于tensor y的对应元素\r\n",
    "x.greater_than(y)             #判断tensor x的元素是否大于tensor y的对应元素\r\n",
    "x.greater_equal(y)            #判断tensor x的元素是否大于或等于tensor y的对应元素\r\n",
    "x.allclose(y)                 #判断tensor x的全部元素是否与tensor y的全部元素接近，并返回shape为[1]的bool Tensor"
   ]
  },
  {
   "cell_type": "markdown",
   "metadata": {
    "collapsed": false
   },
   "source": [
    "Paddle对python逻辑比较相关的魔法函数进行了重写，以下操作与上述结果相同。"
   ]
  },
  {
   "cell_type": "code",
   "execution_count": null,
   "metadata": {
    "collapsed": false
   },
   "outputs": [],
   "source": [
    "x == y  -> x.equal(y)         #判断两个tensor的每个元素是否相等\r\n",
    "x != y  -> x.not_equal(y)     #判断两个tensor的每个元素是否不相等\r\n",
    "x < y   -> x.less_than(y)     #判断tensor x的元素是否小于tensor y的对应元素\r\n",
    "x <= y  -> x.less_equal(y)    #判断tensor x的元素是否小于或等于tensor y的对应元素\r\n",
    "x > y   -> x.greater_than(y)  #判断tensor x的元素是否大于tensor y的对应元素\r\n",
    "x >= y  -> x.greater_equal(y) #判断tensor x的元素是否大于或等于tensor y的对应元素"
   ]
  },
  {
   "cell_type": "markdown",
   "metadata": {
    "collapsed": false
   },
   "source": [
    "以下操作仅针对bool型Tensor"
   ]
  },
  {
   "cell_type": "code",
   "execution_count": 25,
   "metadata": {
    "collapsed": false
   },
   "outputs": [],
   "source": [
    "x.logical_and(y)              #对两个bool型tensor逐元素进行逻辑与操作\r\n",
    "x.logical_or(y)               #对两个bool型tensor逐元素进行逻辑或操作\r\n",
    "x.logical_xor(y)              #对两个bool型tensor逐元素进行逻辑亦或操作\r\n",
    "x.logical_not(y)              #对两个bool型tensor逐元素进行逻辑非操作"
   ]
  },
  {
   "cell_type": "code",
   "execution_count": 26,
   "metadata": {
    "collapsed": false
   },
   "outputs": [],
   "source": [
    "# 有关的线性代数\r\n",
    "x.cholesky()                  #矩阵的cholesky分解\r\n",
    "x.t()                         #矩阵转置\r\n",
    "x.transpose([1, 0])           #交换axis 0 与axis 1的顺序\r\n",
    "x.norm('pro')                 #矩阵的Frobenius 范数\r\n",
    "x.dist(y, p=2)                #矩阵（x-y）的2范数\r\n",
    "x.matmul(y)                   #矩阵乘法"
   ]
  },
  {
   "cell_type": "markdown",
   "metadata": {
    "collapsed": false
   },
   "source": [
    "### Tensor的内容到这里就落下帷幕了\n",
    "Tensor已经暂时落下帷幕。\n",
    "\n",
    "三岁白话paddle系列还会继续，希望大家多多支持！\n"
   ]
  }
 ],
 "metadata": {
  "kernelspec": {
   "display_name": "PaddlePaddle 2.0.0b0 (Python 3.5)",
   "language": "python",
   "name": "py35-paddle1.2.0"
  },
  "language_info": {
   "codemirror_mode": {
    "name": "ipython",
    "version": 3
   },
   "file_extension": ".py",
   "mimetype": "text/x-python",
   "name": "python",
   "nbconvert_exporter": "python",
   "pygments_lexer": "ipython3",
   "version": "3.7.4"
  }
 },
 "nbformat": 4,
 "nbformat_minor": 1
}
