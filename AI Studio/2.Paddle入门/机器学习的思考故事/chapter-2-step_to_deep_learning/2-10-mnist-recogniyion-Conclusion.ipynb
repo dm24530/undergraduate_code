{
 "cells": [
  {
   "cell_type": "markdown",
   "metadata": {
    "collapsed": false
   },
   "source": [
    "截止目前，诸位读者已经掌握了使用飞桨完成深度学习建模的方法，并且可以编写相当强大的模型。如果将每个模型部分均展开，整个模型实现有几百行代码，可以灵活的实现各种建模过程中的需求。\n",
    "\n",
    "<center>\n",
    "  \n",
    "<img src=\"https://ai-studio-static-online.cdn.bcebos.com/45825206fffb4819bbd0bb659ad2bfe2ec139bccf2bb4f12ae8375ed2e7e71f5\" width=\"500\" hegiht=\"313\" align=center />\n",
    "\n",
    " </center>\n",
    "   \n",
    "<center>图：已经可以编写相当强大的模型 </center>\n",
    "\n",
    "\n",
    "\n",
    "本章内容覆盖了使用飞桨建模各方面的基础知识，但仅以手写数字识别为案例，还难以覆盖各个领域的建模经验。从下一章开始，我们正式进入本教程的第二部分，以推荐、计算机视觉和自然语言处理等多个领域的任务为例，讲述各行各业最为常用的模型实现，并介绍更多使用飞桨的知识。"
   ]
  },
  {
   "cell_type": "markdown",
   "metadata": {
    "collapsed": false
   },
   "source": [
    "学到这里，相信大家已经掌握了手写数字识别模型的深度学习建模方法，并且可以在飞桨平台上编写相当强大的模型。细心的我们不难发现，如果将模型中的每个模块均展开，整个模型有几百行代码，这些代码可以灵活的应用于其他模型的建模需求。\n",
    "\n",
    "写到这里，我们稍加提一下，本章仅是以手写数字识别为例，介绍了飞桨建模的基础知识，还难以覆盖各个领域的建模经验。从下一章开始，我们将正式进入本教程的第二部分，以推荐、计算机视觉和自然语言处理等多个领域的任务为例，讲述各行需求业最为常用的模型实现，并介绍更多、更深入使用飞桨的知识。"
   ]
  }
 ],
 "metadata": {
  "kernelspec": {
   "display_name": "PaddlePaddle 1.6.0 (Python 3.5)",
   "language": "python",
   "name": "py35-paddle1.2.0"
  },
  "language_info": {
   "codemirror_mode": {
    "name": "ipython",
    "version": 3
   },
   "file_extension": ".py",
   "mimetype": "text/x-python",
   "name": "python",
   "nbconvert_exporter": "python",
   "pygments_lexer": "ipython3",
   "version": "3.7.4"
  }
 },
 "nbformat": 4,
 "nbformat_minor": 1
}
